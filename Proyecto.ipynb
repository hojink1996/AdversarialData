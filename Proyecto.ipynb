{
  "nbformat": 4,
  "nbformat_minor": 0,
  "metadata": {
    "colab": {
      "name": "Proyecto.ipynb",
      "version": "0.3.2",
      "provenance": [],
      "collapsed_sections": [],
      "include_colab_link": true
    },
    "kernelspec": {
      "name": "python3",
      "display_name": "Python 3"
    },
    "accelerator": "GPU"
  },
  "cells": [
    {
      "cell_type": "markdown",
      "metadata": {
        "id": "view-in-github",
        "colab_type": "text"
      },
      "source": [
        "<a href=\"https://colab.research.google.com/github/hojink1996/AdversarialData/blob/master/Proyecto.ipynb\" target=\"_parent\"><img src=\"https://colab.research.google.com/assets/colab-badge.svg\" alt=\"Open In Colab\"/></a>"
      ]
    },
    {
      "metadata": {
        "id": "v9sAsYODyTu4",
        "colab_type": "code",
        "colab": {
          "base_uri": "https://localhost:8080/",
          "height": 191
        },
        "outputId": "ee965a6a-b3b3-4d9f-8f83-9027733a8f30"
      },
      "cell_type": "code",
      "source": [
        "! rm -r AdversarialData\n",
        "! git init\n",
        "! git clone https://github.com/hojink1996/AdversarialData.git"
      ],
      "execution_count": 2,
      "outputs": [
        {
          "output_type": "stream",
          "text": [
            "rm: cannot remove 'AdversarialData': No such file or directory\n",
            "Initialized empty Git repository in /content/.git/\n",
            "Cloning into 'AdversarialData'...\n",
            "remote: Enumerating objects: 15, done.\u001b[K\n",
            "remote: Counting objects: 100% (15/15), done.\u001b[K\n",
            "remote: Compressing objects: 100% (15/15), done.\u001b[K\n",
            "remote: Total 11137 (delta 2), reused 2 (delta 0), pack-reused 11122\u001b[K\n",
            "Receiving objects: 100% (11137/11137), 338.61 MiB | 27.32 MiB/s, done.\n",
            "Resolving deltas: 100% (5/5), done.\n",
            "Checking out files: 100% (11110/11110), done.\n"
          ],
          "name": "stdout"
        }
      ]
    },
    {
      "metadata": {
        "id": "f2NrPt2_ykqA",
        "colab_type": "code",
        "colab": {
          "base_uri": "https://localhost:8080/",
          "height": 34
        },
        "outputId": "fb13bd04-3184-49f7-d86b-155dcd447aaf"
      },
      "cell_type": "code",
      "source": [
        "import os\n",
        "# os.chdir('home')\n",
        "# os.chdir('..')\n",
        "! ls"
      ],
      "execution_count": 1,
      "outputs": [
        {
          "output_type": "stream",
          "text": [
            "AdversarialData  newresnet50.h5  sample_data\n"
          ],
          "name": "stdout"
        }
      ]
    },
    {
      "metadata": {
        "id": "O_OD9hKt949n",
        "colab_type": "code",
        "colab": {}
      },
      "cell_type": "code",
      "source": [
        "! cat load_single_imagenet.py"
      ],
      "execution_count": 0,
      "outputs": []
    },
    {
      "metadata": {
        "id": "Otd1UGRryp8m",
        "colab_type": "code",
        "colab": {
          "base_uri": "https://localhost:8080/",
          "height": 1597
        },
        "outputId": "6502940d-5176-4ce8-da05-9392ba5d204d"
      },
      "cell_type": "code",
      "source": [
        "from keras.applications import resnet50\n",
        "from keras import models\n",
        "from keras.optimizers import SGD\n",
        "from keras.preprocessing import image\n",
        "import numpy as np\n",
        "from keras.callbacks import EarlyStopping\n",
        "from keras.callbacks import ModelCheckpoint\n",
        "import json\n",
        "\n",
        "from AdversarialData.Tools.retrain_adversarial import generate_new_model\n",
        "from AdversarialData.Tools.retrain_adversarial import expected_answers\n",
        "from AdversarialData.Tools.load_single_imagenet import n_arrays_adversarial\n",
        "\n",
        "# Path to answers\n",
        "path = 'AdversarialData/val.txt'\n",
        "\n",
        "# Variables para reentrenar\n",
        "n_epochs = 100\n",
        "batch_size = 32\n",
        "\n",
        "# Load RESNET50\n",
        "resnet_model = resnet50.ResNet50(weights = 'imagenet')\n",
        "\n",
        "# Create new model for RESNET50\n",
        "generate_new_model(resnet_model, 'newresnet50.h5')\n",
        "\n",
        "# Load model for RESNET50\n",
        "new_model = models.load_model('newresnet50.h5')\n",
        "\n",
        "# Expected values\n",
        "y_expected = expected_answers(path, 5000)\n",
        "y_train = y_expected\n",
        "\n",
        "# Set the Gradient Descent\n",
        "sgd = SGD(lr=5e-3, momentum=0.9, decay=1e-6, nesterov=True)\n",
        "new_model.compile(optimizer=sgd, loss='categorical_crossentropy', metrics=['accuracy'])\n",
        "\n",
        "# Get the 2000 first adversarial examples\n",
        "train_adv = n_arrays_adversarial(0, 5000, 224, 224)\n",
        "# val_adv = n_arrays_adversarial(11, 20, 224, 224)\n",
        "\n",
        "# Save best model with Early Stopping\n",
        "filepath=\"weights.best.hdf5\"\n",
        "checkpoint = ModelCheckpoint(filepath, monitor='val_acc', verbose=1, save_best_only=True, mode='max')\n",
        "early_stop = EarlyStopping(monitor='val_acc', patience=5, mode='max')\n",
        "\n",
        "callbacks_list = [checkpoint, early_stop]\n",
        "\n",
        "# Fit the model\n",
        "train_adv = resnet50.preprocess_input(train_adv)\n",
        "record = new_model.fit(x=train_adv, y=y_train, epochs=n_epochs, shuffle=True, verbose=1, callbacks=callbacks_list,\n",
        "                       validation_split=0.1)\n",
        "generate_new_model(new_model, '10000examples100epochs.h5')\n",
        "\n",
        "# Save the history of training\n",
        "with open('file.json', 'w') as f:\n",
        "    json.dump(record.history, f)"
      ],
      "execution_count": 3,
      "outputs": [
        {
          "output_type": "stream",
          "text": [
            "Downloading data from https://github.com/fchollet/deep-learning-models/releases/download/v0.2/resnet50_weights_tf_dim_ordering_tf_kernels.h5\n",
            "102858752/102853048 [==============================] - 4s 0us/step\n",
            "_________________________________________________________________\n",
            "Layer (type)                 Output Shape              Param #   \n",
            "=================================================================\n",
            "resnet50 (Model)             (None, 1000)              25636712  \n",
            "=================================================================\n",
            "Total params: 25,636,712\n",
            "Trainable params: 25,583,592\n",
            "Non-trainable params: 53,120\n",
            "_________________________________________________________________\n"
          ],
          "name": "stdout"
        },
        {
          "output_type": "stream",
          "text": [
            "/usr/local/lib/python3.6/dist-packages/keras/engine/saving.py:292: UserWarning: No training configuration found in save file: the model was *not* compiled. Compile it manually.\n",
            "  warnings.warn('No training configuration found in save file: '\n"
          ],
          "name": "stderr"
        },
        {
          "output_type": "stream",
          "text": [
            "Train on 4500 samples, validate on 500 samples\n",
            "Epoch 1/100\n",
            "4500/4500 [==============================] - 151s 34ms/step - loss: 3.3002 - acc: 0.3036 - val_loss: 4.5491 - val_acc: 0.2160\n",
            "\n",
            "Epoch 00001: val_acc improved from -inf to 0.21600, saving model to weights.best.hdf5\n",
            "Epoch 2/100\n",
            "4500/4500 [==============================] - 133s 29ms/step - loss: 0.7370 - acc: 0.8249 - val_loss: 3.1518 - val_acc: 0.3360\n",
            "\n",
            "Epoch 00002: val_acc improved from 0.21600 to 0.33600, saving model to weights.best.hdf5\n",
            "Epoch 3/100\n",
            "4500/4500 [==============================] - 132s 29ms/step - loss: 0.0978 - acc: 0.9884 - val_loss: 2.7103 - val_acc: 0.4160\n",
            "\n",
            "Epoch 00003: val_acc improved from 0.33600 to 0.41600, saving model to weights.best.hdf5\n",
            "Epoch 4/100\n",
            "4500/4500 [==============================] - 134s 30ms/step - loss: 0.0184 - acc: 1.0000 - val_loss: 2.6522 - val_acc: 0.4180\n",
            "\n",
            "Epoch 00004: val_acc improved from 0.41600 to 0.41800, saving model to weights.best.hdf5\n",
            "Epoch 5/100\n",
            "4500/4500 [==============================] - 133s 30ms/step - loss: 0.0102 - acc: 1.0000 - val_loss: 2.6449 - val_acc: 0.4140\n",
            "\n",
            "Epoch 00005: val_acc did not improve from 0.41800\n",
            "Epoch 6/100\n",
            "4500/4500 [==============================] - 135s 30ms/step - loss: 0.0084 - acc: 1.0000 - val_loss: 2.6438 - val_acc: 0.4220\n",
            "\n",
            "Epoch 00006: val_acc improved from 0.41800 to 0.42200, saving model to weights.best.hdf5\n",
            "Epoch 7/100\n",
            "4500/4500 [==============================] - 133s 30ms/step - loss: 0.0070 - acc: 1.0000 - val_loss: 2.6450 - val_acc: 0.4180\n",
            "\n",
            "Epoch 00007: val_acc did not improve from 0.42200\n",
            "Epoch 8/100\n",
            "4500/4500 [==============================] - 133s 30ms/step - loss: 0.0058 - acc: 1.0000 - val_loss: 2.6454 - val_acc: 0.4220\n",
            "\n",
            "Epoch 00008: val_acc did not improve from 0.42200\n",
            "Epoch 9/100\n",
            "4500/4500 [==============================] - 134s 30ms/step - loss: 0.0049 - acc: 1.0000 - val_loss: 2.6477 - val_acc: 0.4280\n",
            "\n",
            "Epoch 00009: val_acc improved from 0.42200 to 0.42800, saving model to weights.best.hdf5\n",
            "Epoch 10/100\n",
            "4500/4500 [==============================] - 135s 30ms/step - loss: 0.0047 - acc: 1.0000 - val_loss: 2.6454 - val_acc: 0.4280\n",
            "\n",
            "Epoch 00010: val_acc did not improve from 0.42800\n",
            "Epoch 11/100\n",
            "4500/4500 [==============================] - 135s 30ms/step - loss: 0.0043 - acc: 1.0000 - val_loss: 2.6477 - val_acc: 0.4260\n",
            "\n",
            "Epoch 00011: val_acc did not improve from 0.42800\n",
            "Epoch 12/100\n",
            "4500/4500 [==============================] - 136s 30ms/step - loss: 0.0039 - acc: 1.0000 - val_loss: 2.6464 - val_acc: 0.4300\n",
            "\n",
            "Epoch 00012: val_acc improved from 0.42800 to 0.43000, saving model to weights.best.hdf5\n",
            "Epoch 13/100\n",
            "4500/4500 [==============================] - 138s 31ms/step - loss: 0.0035 - acc: 1.0000 - val_loss: 2.6483 - val_acc: 0.4220\n",
            "\n",
            "Epoch 00013: val_acc did not improve from 0.43000\n",
            "Epoch 14/100\n",
            "4500/4500 [==============================] - 135s 30ms/step - loss: 0.0035 - acc: 1.0000 - val_loss: 2.6466 - val_acc: 0.4220\n",
            "\n",
            "Epoch 00014: val_acc did not improve from 0.43000\n",
            "Epoch 15/100\n",
            "4500/4500 [==============================] - 136s 30ms/step - loss: 0.0031 - acc: 1.0000 - val_loss: 2.6465 - val_acc: 0.4260\n",
            "\n",
            "Epoch 00015: val_acc did not improve from 0.43000\n",
            "Epoch 16/100\n",
            "4500/4500 [==============================] - 134s 30ms/step - loss: 0.0030 - acc: 1.0000 - val_loss: 2.6466 - val_acc: 0.4240\n",
            "\n",
            "Epoch 00016: val_acc did not improve from 0.43000\n",
            "Epoch 17/100\n",
            "4500/4500 [==============================] - 135s 30ms/step - loss: 0.0028 - acc: 1.0000 - val_loss: 2.6446 - val_acc: 0.4260\n",
            "\n",
            "Epoch 00017: val_acc did not improve from 0.43000\n",
            "_________________________________________________________________\n",
            "Layer (type)                 Output Shape              Param #   \n",
            "=================================================================\n",
            "sequential_1 (Sequential)    (None, 1000)              25636712  \n",
            "=================================================================\n",
            "Total params: 25,636,712\n",
            "Trainable params: 25,583,592\n",
            "Non-trainable params: 53,120\n",
            "_________________________________________________________________\n"
          ],
          "name": "stdout"
        }
      ]
    },
    {
      "metadata": {
        "id": "Nfm0mPME6No7",
        "colab_type": "code",
        "colab": {
          "base_uri": "https://localhost:8080/",
          "height": 451
        },
        "outputId": "fa6067a7-6e04-4905-f92b-461c81ee527a"
      },
      "cell_type": "code",
      "source": [
        "from google.colab import files\n",
        "files.download('10000examples100epochs.h5')"
      ],
      "execution_count": 4,
      "outputs": [
        {
          "output_type": "stream",
          "text": [
            "----------------------------------------\n",
            "Exception happened during processing of request from ('::ffff:127.0.0.1', 41790, 0, 0)\n",
            "Traceback (most recent call last):\n",
            "  File \"/usr/lib/python3.6/socketserver.py\", line 317, in _handle_request_noblock\n",
            "    self.process_request(request, client_address)\n",
            "  File \"/usr/lib/python3.6/socketserver.py\", line 348, in process_request\n",
            "    self.finish_request(request, client_address)\n",
            "  File \"/usr/lib/python3.6/socketserver.py\", line 361, in finish_request\n",
            "    self.RequestHandlerClass(request, client_address, self)\n",
            "  File \"/usr/lib/python3.6/socketserver.py\", line 721, in __init__\n",
            "    self.handle()\n",
            "  File \"/usr/lib/python3.6/http/server.py\", line 418, in handle\n",
            "    self.handle_one_request()\n",
            "  File \"/usr/lib/python3.6/http/server.py\", line 406, in handle_one_request\n",
            "    method()\n",
            "  File \"/usr/lib/python3.6/http/server.py\", line 639, in do_GET\n",
            "    self.copyfile(f, self.wfile)\n",
            "  File \"/usr/lib/python3.6/http/server.py\", line 800, in copyfile\n",
            "    shutil.copyfileobj(source, outputfile)\n",
            "  File \"/usr/lib/python3.6/shutil.py\", line 82, in copyfileobj\n",
            "    fdst.write(buf)\n",
            "  File \"/usr/lib/python3.6/socketserver.py\", line 800, in write\n",
            "    self._sock.sendall(b)\n",
            "ConnectionResetError: [Errno 104] Connection reset by peer\n",
            "----------------------------------------\n"
          ],
          "name": "stderr"
        }
      ]
    }
  ]
}